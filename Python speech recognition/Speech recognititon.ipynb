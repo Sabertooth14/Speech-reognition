{
 "cells": [
  {
   "cell_type": "markdown",
   "id": "b0ad5a7e",
   "metadata": {},
   "source": [
    "### API"
   ]
  },
  {
   "cell_type": "code",
   "execution_count": 1,
   "id": "343eabeb",
   "metadata": {},
   "outputs": [],
   "source": [
    "api_key = \"2f86db3b572b48ee8fe5a8937a035a97\""
   ]
  },
  {
   "cell_type": "code",
   "execution_count": 2,
   "id": "8e341c4f",
   "metadata": {},
   "outputs": [],
   "source": [
    "#uploading the local files for trancriptions\n",
    "import requests\n",
    "import sys\n",
    "\n",
    "upload_endpoint = 'https://api.assemblyai.com/v2/upload'\n",
    "filename = 'mic_recording.wav'\n",
    "# print(str(sys.argv))\n",
    "def read_file(filename, chunk_size=5242880):\n",
    "    with open(filename, 'rb') as _file:\n",
    "        while True:\n",
    "            data = _file.read(chunk_size)\n",
    "            if not data:\n",
    "                break\n",
    "            yield data\n",
    "\n",
    "headers = {'authorization': api_key}\n",
    "response = requests.post(upload_endpoint,\n",
    "                        headers=headers,\n",
    "                        data=read_file(filename))\n",
    "\n",
    "# print(response.json())\n",
    "audio_url =response.json()['upload_url'] "
   ]
  },
  {
   "cell_type": "code",
   "execution_count": 3,
   "id": "91b819a9",
   "metadata": {},
   "outputs": [],
   "source": [
    "#transcription\n",
    "\n",
    "transcript_endpoint = \"https://api.assemblyai.com/v2/transcript\"\n",
    "json = { \"audio_url\": audio_url }\n",
    "\n",
    "response = requests.post(transcript_endpoint, json=json, headers=headers)\n",
    "#print(response.json())\n",
    "job_id = response.json()['id']"
   ]
  },
  {
   "cell_type": "code",
   "execution_count": 5,
   "id": "f6fbc76d",
   "metadata": {},
   "outputs": [
    {
     "name": "stdout",
     "output_type": "stream",
     "text": [
      "Transcription Saved!!\n"
     ]
    }
   ],
   "source": [
    "#polling\n",
    "#asking the assembly ai if the job is done or not\n",
    "polling_endpoint = transcript_endpoint +'/'+job_id\n",
    "polling_response = requests.get(polling_endpoint, headers=headers)\n",
    "\n",
    "\n",
    "#asking assembly ai repetitively if the work is done\n",
    "def get_transcription_result_url():\n",
    "    while True:\n",
    "        polling_response = requests.get(polling_endpoint, headers=headers)\n",
    "        if polling_response.json()['status']=='completed':\n",
    "            return polling_response\n",
    "        elif polling_response.json()['status']=='error':\n",
    "            return \"error\"\n",
    "        \n",
    "get_transcription_result_url()\n",
    "data = polling_response.json()\n",
    "\n",
    "##saving the transcript\n",
    "text_filename = filename+ '.txt'\n",
    "with open(text_filename,\"w\") as f:\n",
    "    f.write(data['text'])\n",
    "print('Transcription Saved!!')\n"
   ]
  },
  {
   "cell_type": "code",
   "execution_count": null,
   "id": "c8802096",
   "metadata": {},
   "outputs": [],
   "source": []
  }
 ],
 "metadata": {
  "kernelspec": {
   "display_name": "Python 3",
   "language": "python",
   "name": "python3"
  },
  "language_info": {
   "codemirror_mode": {
    "name": "ipython",
    "version": 3
   },
   "file_extension": ".py",
   "mimetype": "text/x-python",
   "name": "python",
   "nbconvert_exporter": "python",
   "pygments_lexer": "ipython3",
   "version": "3.8.8"
  }
 },
 "nbformat": 4,
 "nbformat_minor": 5
}
